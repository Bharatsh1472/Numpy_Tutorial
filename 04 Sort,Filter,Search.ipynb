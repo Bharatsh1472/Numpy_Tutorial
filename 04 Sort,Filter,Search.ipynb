{
 "cells": [
  {
   "cell_type": "markdown",
   "id": "27121312-269c-4750-a8af-db59fe8bdbb4",
   "metadata": {},
   "source": [
    "# SORTING, SEARCHING & FILTERING ARRAY ELEMENTS"
   ]
  },
  {
   "cell_type": "code",
   "execution_count": 2,
   "id": "6788eb0b-3f37-4d28-a716-e89da070e441",
   "metadata": {},
   "outputs": [
    {
     "name": "stdout",
     "output_type": "stream",
     "text": [
      "[  2   6  26  29 128 265]\n",
      "\n",
      "[[  3   6  26  29  36]\n",
      " [  2  16  32  65 128]]\n"
     ]
    }
   ],
   "source": [
    "import numpy as np\n",
    "\n",
    "# SORTING\n",
    "a = np.array([26,6,29,265,128,2])\n",
    "print(np.sort(a))\n",
    "print()\n",
    "b = np.array([[3,36,26,6,29],[16,32,65,128,2]])\n",
    "print(np.sort(b))"
   ]
  },
  {
   "cell_type": "code",
   "execution_count": 29,
   "id": "9b7f994d-1af3-4978-a1e4-b59140abd855",
   "metadata": {},
   "outputs": [
    {
     "name": "stdout",
     "output_type": "stream",
     "text": [
      "(array([5], dtype=int64),)\n",
      "(array([1, 2, 3, 5, 6], dtype=int64),)\n"
     ]
    }
   ],
   "source": [
    "# SEARCHING\n",
    "n = np.array([3,36,26,6,29,16,2])\n",
    "s = np.where(n==16)\n",
    "print(s)\n",
    "x = np.where(n%2==0)\n",
    "print(x)"
   ]
  },
  {
   "cell_type": "code",
   "execution_count": 30,
   "id": "bc30434c-17e2-4256-8f63-8cd16e8701a7",
   "metadata": {},
   "outputs": [
    {
     "name": "stdout",
     "output_type": "stream",
     "text": [
      "4\n"
     ]
    }
   ],
   "source": [
    "# SEARCHSORTED\n",
    "# NOTE: ARRAY MUST BE SORTED\n",
    "\n",
    "ss = np.array([1,3,4,6,10,18])\n",
    "print(np.searchsorted(ss,10))"
   ]
  },
  {
   "cell_type": "code",
   "execution_count": 33,
   "id": "e339f51d-bbc4-4c93-849a-c961839e3890",
   "metadata": {},
   "outputs": [
    {
     "name": "stdout",
     "output_type": "stream",
     "text": [
      "[10 30]\n"
     ]
    }
   ],
   "source": [
    "# FILTER\n",
    "# CREATES A NEW ARRAY FROM THE EXISTING ARRAY\n",
    "\n",
    "f = np.array([10,20,30,40])\n",
    "# ELEMENTS WHICH WE WANT IN NEW ARRAY WILL ASSIGNNED TRUE VAL.\n",
    "z = [True, False, True, False]\n",
    "newarr = f[z]\n",
    "print(newarr)\n"
   ]
  },
  {
   "cell_type": "code",
   "execution_count": 4,
   "id": "b1ea1251-e8db-444c-aa23-22354eb3796d",
   "metadata": {},
   "outputs": [
    {
     "name": "stdout",
     "output_type": "stream",
     "text": [
      "[False, False, True, True, False, True, True, False]\n",
      "[43 44 45 46]\n"
     ]
    }
   ],
   "source": [
    "arr = np.array([41, 42, 43, 44, 18, 45, 46, 26])\n",
    "# Initializing an empty list to store boolean values\n",
    "filar = []\n",
    "for i in arr:\n",
    "    if i>42:\n",
    "        filar.append(True)\n",
    "    else:\n",
    "        filar.append(False)\n",
    "\n",
    "reslarr = arr[filar]\n",
    "# Print the boolean list indicating which elements are greater than 42\n",
    "print(filar)\n",
    "# Print the resulting array containing only elements greater than 42\n",
    "print(reslarr)"
   ]
  },
  {
   "cell_type": "code",
   "execution_count": 8,
   "id": "c29a170b-6ce2-484c-b7b4-88a429d4624c",
   "metadata": {},
   "outputs": [
    {
     "name": "stdout",
     "output_type": "stream",
     "text": [
      "[False, True, False, True, True, False, True, True]\n",
      "[18 26 42 44 46]\n"
     ]
    }
   ],
   "source": [
    "num = np.array([41, 42, 43, 44, 18, 45, 46, 26])\n",
    "emp = []\n",
    "for i in num:\n",
    "    if i%2==0:\n",
    "        emp.append(True)\n",
    "    else:\n",
    "        emp.append(False)\n",
    "\n",
    "# Using the boolean list to filter the original array, keeping only even numbers\n",
    "result = num[emp]\n",
    "# Printing the boolean list indicating which numbers are even\n",
    "print(emp)\n",
    "print(np.sort(result))"
   ]
  }
 ],
 "metadata": {
  "kernelspec": {
   "display_name": "Python 3 (ipykernel)",
   "language": "python",
   "name": "python3"
  },
  "language_info": {
   "codemirror_mode": {
    "name": "ipython",
    "version": 3
   },
   "file_extension": ".py",
   "mimetype": "text/x-python",
   "name": "python",
   "nbconvert_exporter": "python",
   "pygments_lexer": "ipython3",
   "version": "3.11.7"
  }
 },
 "nbformat": 4,
 "nbformat_minor": 5
}
