{
 "cells": [
  {
   "cell_type": "code",
   "execution_count": 11,
   "id": "ea4127f6-2f7f-46b0-8576-8984ed676f6e",
   "metadata": {},
   "outputs": [
    {
     "name": "stdout",
     "output_type": "stream",
     "text": [
      "184.22222222222223\n",
      "[120 128 128 143 186 223 231 236 263]\n",
      "186.0\n",
      "128\n",
      "52.41665930636467\n",
      "2747.506172839506\n",
      "2704\n"
     ]
    }
   ],
   "source": [
    "import numpy as np\n",
    "import statistics as st\n",
    "\n",
    "baked_food = [120,128,263,128,143,236,223,231,186]\n",
    "\n",
    "a = np.array(baked_food)\n",
    "print(np.mean(a))\n",
    "\n",
    "# print(np.median(a))\n",
    "print(np.sort(a))\n",
    "print(np.median(a))\n",
    "\n",
    "# MODE - RETURN THE MOST OCCURRING VALUE BUT IF SIMILAR THEN RETURN THE FIRST VAL PRESENT IN THE SEQUENCE\n",
    "print(st.mode(a))\n",
    "\n",
    "# MIN THE VAL OF STANDARD DEVIATION BETTER IS THE QUALITY i.e DATA ELEMENTS ARE NOT FAR AWAY FROM MEAN OR AVG VAL\n",
    "print(np.std(a))\n",
    "\n",
    "print(np.var(a))\n",
    "print(52**2)"
   ]
  },
  {
   "cell_type": "code",
   "execution_count": 15,
   "id": "277a40ab-b83e-40e2-9d77-2eb9035edded",
   "metadata": {},
   "outputs": [
    {
     "name": "stdout",
     "output_type": "stream",
     "text": [
      "[[1.         0.21631783]\n",
      " [0.21631783 1.        ]]\n"
     ]
    }
   ],
   "source": [
    "tobacco_consumption = [10,20,40,30,40,50]\n",
    "deaths = [100,50,125,143,162,70]\n",
    "\n",
    "# USED TO CHECK THE DEPENDENCY BETWEEN TWO ATTRIBUTES \n",
    "print(np.corrcoef([tobacco_consumption, deaths]))\n"
   ]
  },
  {
   "cell_type": "code",
   "execution_count": 17,
   "id": "fac78d24-862d-45bb-80d7-9aad2286330a",
   "metadata": {},
   "outputs": [
    {
     "name": "stdout",
     "output_type": "stream",
     "text": [
      "[[ 1.         -0.51967675]\n",
      " [-0.51967675  1.        ]]\n"
     ]
    }
   ],
   "source": [
    "# -1 -> INVERSELY PROPORTIONAL RELATIONSHIP\n",
    "# 1 -> PROPORTIONAL RELATIONSHIP\n",
    "# 0 -> NO RELATIONSHIP\n",
    "\n",
    "price = [100,150,200,300,125]\n",
    "sales = [10,20,15,4,12]\n",
    "\n",
    "print(np.corrcoef([price, sales]))\n"
   ]
  }
 ],
 "metadata": {
  "kernelspec": {
   "display_name": "Python 3 (ipykernel)",
   "language": "python",
   "name": "python3"
  },
  "language_info": {
   "codemirror_mode": {
    "name": "ipython",
    "version": 3
   },
   "file_extension": ".py",
   "mimetype": "text/x-python",
   "name": "python",
   "nbconvert_exporter": "python",
   "pygments_lexer": "ipython3",
   "version": "3.11.7"
  }
 },
 "nbformat": 4,
 "nbformat_minor": 5
}
