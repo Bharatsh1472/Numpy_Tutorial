{
 "cells": [
  {
   "cell_type": "markdown",
   "id": "e2874ffe-be43-48d6-994b-17f9b800348c",
   "metadata": {},
   "source": [
    "# AGGREGATE FUNCTIONS"
   ]
  },
  {
   "cell_type": "code",
   "execution_count": 8,
   "id": "9d1667e2-8e31-4318-b53f-daef1d080a7e",
   "metadata": {},
   "outputs": [
    {
     "name": "stdout",
     "output_type": "stream",
     "text": [
      "230\n",
      "90\n",
      "10\n",
      "5\n",
      "46.0\n",
      "[ 10  40  80 140 230]\n",
      "[      10      300    12000   720000 64800000]\n"
     ]
    }
   ],
   "source": [
    "import numpy as np\n",
    "\n",
    "a = np.array([10,30,40,60,90])\n",
    "\n",
    "print(np.sum(a))\n",
    "print(np.max(a))\n",
    "print(np.min(a))\n",
    "print(np.size(a))\n",
    "print(np.mean(a))\n",
    "print(np.cumsum(a))\n",
    "print(np.cumprod(a))"
   ]
  },
  {
   "cell_type": "code",
   "execution_count": 2,
   "id": "707ab770-b9e5-4214-ac1d-08241a325749",
   "metadata": {},
   "outputs": [
    {
     "name": "stdout",
     "output_type": "stream",
     "text": [
      "[100 261 154 225 695 655 553 206] \n",
      " [10 26 60 16 30 15 20 40]\n",
      "\n",
      "[[  100   261   154   225   695   655   553   206]\n",
      " [ 1000  6786  9240  3600 20850  9825 11060  8240]]\n",
      "\n",
      "70601\n"
     ]
    }
   ],
   "source": [
    "import numpy as np\n",
    "\n",
    "x = [100,261,154,225,695,655,553,206]\n",
    "y =[10,26,60,16,30,15,20,40]\n",
    "\n",
    "price = np.array(x)\n",
    "quantity = np.array(y)\n",
    "\n",
    "print(price, \"\\n\" , quantity)\n",
    "print()\n",
    "# Calculate the cumulative product of the price and quantity arrays along the first axis (rows)\n",
    "z = np.cumprod([price, quantity], axis = 0)\n",
    "print(z)\n",
    "print()\n",
    "print(z[1].sum())"
   ]
  }
 ],
 "metadata": {
  "kernelspec": {
   "display_name": "Python 3 (ipykernel)",
   "language": "python",
   "name": "python3"
  },
  "language_info": {
   "codemirror_mode": {
    "name": "ipython",
    "version": 3
   },
   "file_extension": ".py",
   "mimetype": "text/x-python",
   "name": "python",
   "nbconvert_exporter": "python",
   "pygments_lexer": "ipython3",
   "version": "3.11.7"
  }
 },
 "nbformat": 4,
 "nbformat_minor": 5
}
