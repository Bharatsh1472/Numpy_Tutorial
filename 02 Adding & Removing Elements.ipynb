{
 "cells": [
  {
   "cell_type": "markdown",
   "id": "a5be9b5f-03fc-4853-a5fd-5e580c836fe1",
   "metadata": {},
   "source": [
    "# ADDING & REMOVING ELEMENTS IN ARRAY"
   ]
  },
  {
   "cell_type": "code",
   "execution_count": 4,
   "id": "657953a3-006d-4d2a-9e0f-1949b3bb1895",
   "metadata": {},
   "outputs": [
    {
     "name": "stdout",
     "output_type": "stream",
     "text": [
      "[[1 2 3]\n",
      " [4 5 6]\n",
      " [7 1 0]]\n",
      "\n",
      "[12  8  9]\n",
      "\n",
      "[ 6 15  8]\n"
     ]
    }
   ],
   "source": [
    "import numpy as np\n",
    "arr = np.array([[1,2,3],[4,5,6],[7,1,0]])\n",
    "print(arr)\n",
    "print()\n",
    "# Calculate and print the sum of each column (axis=0) of the array\n",
    "print(arr.sum(axis = 0))\n",
    "print()\n",
    "# Calculate and print the sum of each row (axis=1) of the array\n",
    "print(arr.sum(axis = 1))"
   ]
  },
  {
   "cell_type": "code",
   "execution_count": 6,
   "id": "6c3a0397-c570-4c03-939b-f78ff845a4e9",
   "metadata": {},
   "outputs": [
    {
     "name": "stdout",
     "output_type": "stream",
     "text": [
      "[ 10  45   0  26   3 265  15  69]\n",
      "[ 10  45   0  26   3 265  15  69  79]\n",
      "[ 10  45  77   0  26   3 265  15]\n",
      "[ 10  45  26   3 265  15]\n"
     ]
    }
   ],
   "source": [
    "import numpy as np\n",
    "\n",
    "a = np.array([10,45,0,26,3,265,15])\n",
    "print(np.append(a,69))\n",
    "print(np.append(a,[69,79]))\n",
    "print(np.insert(a,2,77))   #(array,index,value)\n",
    "print(np.delete(a,2))"
   ]
  },
  {
   "cell_type": "code",
   "execution_count": 16,
   "id": "f9a062d2-9995-4a05-acf8-9a4823e9fd19",
   "metadata": {},
   "outputs": [
    {
     "name": "stdout",
     "output_type": "stream",
     "text": [
      "[[10 20]\n",
      " [30 40]]\n",
      "\n",
      "[10 50 60 20 30 40]\n"
     ]
    }
   ],
   "source": [
    "b = np.array([[10,20],[30,40]])\n",
    "print(b)\n",
    "print()\n",
    "print(np.insert(b,1,[50,60]))"
   ]
  },
  {
   "cell_type": "code",
   "execution_count": 8,
   "id": "2a57fdb6-1584-473d-8262-b16e237c3623",
   "metadata": {},
   "outputs": [
    {
     "name": "stdout",
     "output_type": "stream",
     "text": [
      "[[10 20]\n",
      " [50 60]\n",
      " [30 40]]\n"
     ]
    }
   ],
   "source": [
    "print(np.insert(b,1,[50,60],axis=0))"
   ]
  },
  {
   "cell_type": "code",
   "execution_count": 9,
   "id": "4fbcb21d-6f94-4c9d-a9c2-18bdf3ee7ac4",
   "metadata": {},
   "outputs": [
    {
     "name": "stdout",
     "output_type": "stream",
     "text": [
      "[[10 50 20]\n",
      " [30 60 40]]\n"
     ]
    }
   ],
   "source": [
    "print(np.insert(b,1,[50,60],axis=1))"
   ]
  },
  {
   "cell_type": "code",
   "execution_count": 10,
   "id": "1e7787f4-0cd5-4968-bc67-9dff777f0d7e",
   "metadata": {},
   "outputs": [
    {
     "name": "stdout",
     "output_type": "stream",
     "text": [
      "[[10 20]\n",
      " [50 50]\n",
      " [30 40]]\n"
     ]
    }
   ],
   "source": [
    "print(np.insert(b,1,[50],axis=0))"
   ]
  },
  {
   "cell_type": "code",
   "execution_count": 12,
   "id": "24294a57-f158-4090-9d31-c7a72672a228",
   "metadata": {},
   "outputs": [
    {
     "name": "stdout",
     "output_type": "stream",
     "text": [
      "[[10 20]\n",
      " [50 50]\n",
      " [30 40]\n",
      " [50 50]]\n"
     ]
    }
   ],
   "source": [
    "print(np.insert(b,[1,2],[50],axis=0))"
   ]
  },
  {
   "cell_type": "code",
   "execution_count": 13,
   "id": "576bef31-cde8-4084-bff9-db1188e1e081",
   "metadata": {},
   "outputs": [
    {
     "name": "stdout",
     "output_type": "stream",
     "text": [
      "[[10 50 20 50]\n",
      " [30 50 40 50]]\n"
     ]
    }
   ],
   "source": [
    "print(np.insert(b,[1,2],[50],axis=1))"
   ]
  },
  {
   "cell_type": "code",
   "execution_count": 26,
   "id": "3872bc01-dfa2-48ce-9eee-4bb05f41c9f0",
   "metadata": {},
   "outputs": [
    {
     "name": "stdout",
     "output_type": "stream",
     "text": [
      "[[10 20]\n",
      " [30 40]]\n",
      "\n",
      "[[10 20]]\n",
      "\n",
      "[[10]\n",
      " [30]]\n"
     ]
    }
   ],
   "source": [
    "c = np.array([[10,20],[30,40]])\n",
    "print(c)\n",
    "print()\n",
    "print(np.delete(c,1,axis=0))\n",
    "print()\n",
    "print(np.delete(c,1,axis=1))"
   ]
  }
 ],
 "metadata": {
  "kernelspec": {
   "display_name": "Python 3 (ipykernel)",
   "language": "python",
   "name": "python3"
  },
  "language_info": {
   "codemirror_mode": {
    "name": "ipython",
    "version": 3
   },
   "file_extension": ".py",
   "mimetype": "text/x-python",
   "name": "python",
   "nbconvert_exporter": "python",
   "pygments_lexer": "ipython3",
   "version": "3.11.7"
  }
 },
 "nbformat": 4,
 "nbformat_minor": 5
}
