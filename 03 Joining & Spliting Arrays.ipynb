{
 "cells": [
  {
   "cell_type": "markdown",
   "id": "69c355f9-bc9a-46f4-8d4f-70492a5f743d",
   "metadata": {},
   "source": [
    "# Joining & Splitting Arrays"
   ]
  },
  {
   "cell_type": "code",
   "execution_count": 17,
   "id": "850b508b-2a5a-45e5-8f45-441c42fb261d",
   "metadata": {},
   "outputs": [
    {
     "name": "stdout",
     "output_type": "stream",
     "text": [
      "[10 62 54 15 34  2 19 54]\n",
      "[10 62 54 15 34  2 19 54]\n"
     ]
    }
   ],
   "source": [
    "import numpy as np\n",
    "\n",
    "# CONCATENATE\n",
    "ar1 = np.array([10,62,54,15])\n",
    "ar2 = np.array([34,2,19,54])\n",
    "print(np.concatenate([ar1,ar2]))\n",
    "print(np.concatenate([ar1,ar2],axis = 0))"
   ]
  },
  {
   "cell_type": "code",
   "execution_count": 20,
   "id": "2cbcb3ca-340f-4e27-98a0-f25eb61c7ccd",
   "metadata": {},
   "outputs": [
    {
     "name": "stdout",
     "output_type": "stream",
     "text": [
      "[[10 62]\n",
      " [54 15]\n",
      " [34  2]\n",
      " [19 54]]\n",
      "[[10 62 34  2]\n",
      " [54 15 19 54]]\n"
     ]
    }
   ],
   "source": [
    "ar1 = np.array([[10,62],[54,15]])\n",
    "ar2 = np.array([[34,2],[19,54]])\n",
    "print(np.concatenate([ar1,ar2],axis = 0))\n",
    "print(np.concatenate([ar1,ar2],axis = 1))"
   ]
  },
  {
   "cell_type": "code",
   "execution_count": 25,
   "id": "b62c06d5-09d0-4d70-98aa-0f7078111558",
   "metadata": {},
   "outputs": [
    {
     "name": "stdout",
     "output_type": "stream",
     "text": [
      "[[10 62 34  2]\n",
      " [54 15 19 54]]\n"
     ]
    }
   ],
   "source": [
    "# HSTACK\n",
    "# (HORIZONTAL CONCATENATION)\n",
    "print(np.hstack([ar1,ar2]))"
   ]
  },
  {
   "cell_type": "code",
   "execution_count": 24,
   "id": "595bb0ca-b4ae-406e-9997-f7b6bc91ef09",
   "metadata": {},
   "outputs": [
    {
     "name": "stdout",
     "output_type": "stream",
     "text": [
      "[[10 62]\n",
      " [54 15]\n",
      " [34  2]\n",
      " [19 54]]\n"
     ]
    }
   ],
   "source": [
    "# (VERTICAL CONCATENATION)\n",
    "print(np.vstack([ar1,ar2]))"
   ]
  },
  {
   "cell_type": "code",
   "execution_count": 32,
   "id": "6ee2b51a-b84e-4100-ac6b-7cd4ebeb7684",
   "metadata": {},
   "outputs": [
    {
     "name": "stdout",
     "output_type": "stream",
     "text": [
      "[array([10, 65, 29]), array([82,  2, 62]), array([54, 15])]\n",
      "[82  2 62]\n"
     ]
    }
   ],
   "source": [
    "#SPLITTING\n",
    "a = np.array([10,65,29,82,2,62,54,15])\n",
    "b =np.array_split(a,3)\n",
    "print(b)\n",
    "print(b[1])"
   ]
  }
 ],
 "metadata": {
  "kernelspec": {
   "display_name": "Python 3 (ipykernel)",
   "language": "python",
   "name": "python3"
  },
  "language_info": {
   "codemirror_mode": {
    "name": "ipython",
    "version": 3
   },
   "file_extension": ".py",
   "mimetype": "text/x-python",
   "name": "python",
   "nbconvert_exporter": "python",
   "pygments_lexer": "ipython3",
   "version": "3.11.7"
  }
 },
 "nbformat": 4,
 "nbformat_minor": 5
}
